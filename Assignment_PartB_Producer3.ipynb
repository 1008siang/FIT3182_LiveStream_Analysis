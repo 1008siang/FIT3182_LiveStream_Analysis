{
 "cells": [
  {
   "cell_type": "code",
   "execution_count": 1,
   "metadata": {},
   "outputs": [],
   "source": [
    "# import statements\n",
    "from time import sleep\n",
    "import json\n",
    "from json import dumps\n",
    "from kafka import KafkaProducer\n",
    "import random\n",
    "from datetime import datetime\n",
    "import datetime as dt\n",
    "import csv\n",
    "import pandas as pd"
   ]
  },
  {
   "cell_type": "code",
   "execution_count": 2,
   "metadata": {},
   "outputs": [],
   "source": [
    "terra_streaming = []\n",
    "with open(\"FIT3182_Assignment/hotspot_TERRA_streaming.csv\", 'r') as file:\n",
    "    csvreader = csv.reader(file)\n",
    "    header_terra_streaming = next(csvreader)\n",
    "    for row in csvreader:\n",
    "        terra_streaming.append(row)\n",
    "        \n",
    "terra_streaming = pd.DataFrame(terra_streaming)\n",
    "terra_streaming.columns = header_terra_streaming"
   ]
  },
  {
   "cell_type": "code",
   "execution_count": 3,
   "metadata": {},
   "outputs": [
    {
     "data": {
      "text/plain": [
       "datetime.datetime(2021, 12, 27, 4, 16, 51)"
      ]
     },
     "execution_count": 3,
     "metadata": {},
     "output_type": "execute_result"
    }
   ],
   "source": [
    "import pymongo\n",
    "from pymongo import MongoClient\n",
    "\n",
    "client = MongoClient ()\n",
    "db = client.fit3182_assignment_db\n",
    "merged_hist = db.merged_hist\n",
    "\n",
    "date = (list(merged_hist.aggregate([\n",
    "        { '$unwind' : '$Hotspot' },\n",
    "        { '$sort' : { 'Hotspot.datetime' : -1}},\n",
    "        { '$limit' : 1},\n",
    "        { '$project' : {'Hotspot.datetime' : 1 , '_id' : 0}}\n",
    "         ])))\n",
    "\n",
    "temp = date[0]\n",
    "\n",
    "l_date = temp['Hotspot']\n",
    "\n",
    "latest_date = l_date['datetime']\n",
    "latest_date = latest_date.replace(\"T\",\" \")\n",
    "latest_date = latest_date.replace(\"-\",\"/\")\n",
    "latest_date = datetime.strptime(latest_date,\"%Y/%m/%d %H:%M:%S\")\n",
    "latest_date"
   ]
  },
  {
   "cell_type": "code",
   "execution_count": 4,
   "metadata": {},
   "outputs": [],
   "source": [
    "def publish_message(producer_instance, topic_name, key, value):\n",
    "    try:\n",
    "        key_bytes = bytes(key, encoding='utf-8')\n",
    "        value_bytes = bytes(value, encoding='utf-8')\n",
    "        producer_instance.send(topic_name, key=key_bytes, value=value_bytes)\n",
    "        producer_instance.flush()\n",
    "        print('Message published successfully. Data: ' + str(data))\n",
    "    except Exception as ex:\n",
    "        print('Exception in publishing message.')\n",
    "        print(str(ex))"
   ]
  },
  {
   "cell_type": "code",
   "execution_count": 5,
   "metadata": {},
   "outputs": [],
   "source": [
    "def connect_kafka_producer():\n",
    "    _producer = None\n",
    "    try:\n",
    "        _producer = KafkaProducer(bootstrap_servers=['localhost:9092'],\n",
    "                                  api_version=(0, 10))\n",
    "    except Exception as ex:\n",
    "        print('Exception while connecting Kafka.')\n",
    "        print(str(ex))\n",
    "    finally:\n",
    "        return _producer"
   ]
  },
  {
   "cell_type": "code",
   "execution_count": 6,
   "metadata": {},
   "outputs": [
    {
     "name": "stdout",
     "output_type": "stream",
     "text": [
      "Publishing records..\n",
      "Message published successfully. Data: {\"latitude\":\"-36.3065\",\"longitude\":\"141.4495\",\"confidence\":\"69\",\"surface_temperature_celcius\":\"44\",\"datetime\":\"28\\/12\\/2021, 04:16:51\",\"key\":\"Producer03\"}\n",
      "Message published successfully. Data: {\"latitude\":\"-37.7741\",\"longitude\":\"142.8188\",\"confidence\":\"77\",\"surface_temperature_celcius\":\"50\",\"datetime\":\"28\\/12\\/2021, 04:16:53\",\"key\":\"Producer03\"}\n",
      "Message published successfully. Data: {\"latitude\":\"-36.3014\",\"longitude\":\"143.203\",\"confidence\":\"95\",\"surface_temperature_celcius\":\"76\",\"datetime\":\"28\\/12\\/2021, 04:16:55\",\"key\":\"Producer03\"}\n",
      "Message published successfully. Data: {\"latitude\":\"-38.0361\",\"longitude\":\"146.0567\",\"confidence\":\"100\",\"surface_temperature_celcius\":\"90\",\"datetime\":\"28\\/12\\/2021, 04:16:57\",\"key\":\"Producer03\"}\n",
      "Message published successfully. Data: {\"latitude\":\"-37.7211\",\"longitude\":\"149.1342\",\"confidence\":\"73\",\"surface_temperature_celcius\":\"47\",\"datetime\":\"28\\/12\\/2021, 04:16:59\",\"key\":\"Producer03\"}\n",
      "Message published successfully. Data: {\"latitude\":\"-35.646\",\"longitude\":\"142.282\",\"confidence\":\"65\",\"surface_temperature_celcius\":\"32\",\"datetime\":\"28\\/12\\/2021, 04:17:01\",\"key\":\"Producer03\"}\n",
      "Message published successfully. Data: {\"latitude\":\"-36.9303\",\"longitude\":\"143.1034\",\"confidence\":\"70\",\"surface_temperature_celcius\":\"72\",\"datetime\":\"28\\/12\\/2021, 04:17:03\",\"key\":\"Producer03\"}\n",
      "Message published successfully. Data: {\"latitude\":\"-36.536\",\"longitude\":\"144.024\",\"confidence\":\"77\",\"surface_temperature_celcius\":\"50\",\"datetime\":\"28\\/12\\/2021, 04:17:05\",\"key\":\"Producer03\"}\n",
      "Message published successfully. Data: {\"latitude\":\"-36.5234\",\"longitude\":\"144.6939\",\"confidence\":\"62\",\"surface_temperature_celcius\":\"41\",\"datetime\":\"28\\/12\\/2021, 04:17:07\",\"key\":\"Producer03\"}\n",
      "Message published successfully. Data: {\"latitude\":\"-38.0933\",\"longitude\":\"143.9824\",\"confidence\":\"96\",\"surface_temperature_celcius\":\"78\",\"datetime\":\"28\\/12\\/2021, 04:17:09\",\"key\":\"Producer03\"}\n",
      "Message published successfully. Data: {\"latitude\":\"-36.6952\",\"longitude\":\"144.7228\",\"confidence\":\"84\",\"surface_temperature_celcius\":\"57\",\"datetime\":\"28\\/12\\/2021, 04:17:11\",\"key\":\"Producer03\"}\n",
      "Message published successfully. Data: {\"latitude\":\"-37.7635\",\"longitude\":\"142.8181\",\"confidence\":\"61\",\"surface_temperature_celcius\":\"41\",\"datetime\":\"28\\/12\\/2021, 04:17:13\",\"key\":\"Producer03\"}\n",
      "Message published successfully. Data: {\"latitude\":\"-37.5115\",\"longitude\":\"143.14\",\"confidence\":\"99\",\"surface_temperature_celcius\":\"86\",\"datetime\":\"28\\/12\\/2021, 04:17:15\",\"key\":\"Producer03\"}\n",
      "Message published successfully. Data: {\"latitude\":\"-37.0745\",\"longitude\":\"141.0692\",\"confidence\":\"100\",\"surface_temperature_celcius\":\"120\",\"datetime\":\"28\\/12\\/2021, 04:17:17\",\"key\":\"Producer03\"}\n",
      "Message published successfully. Data: {\"latitude\":\"-37.253\",\"longitude\":\"144.3681\",\"confidence\":\"96\",\"surface_temperature_celcius\":\"78\",\"datetime\":\"28\\/12\\/2021, 04:17:19\",\"key\":\"Producer03\"}\n",
      "Message published successfully. Data: {\"latitude\":\"-36.827\",\"longitude\":\"142.5446\",\"confidence\":\"75\",\"surface_temperature_celcius\":\"49\",\"datetime\":\"28\\/12\\/2021, 04:17:21\",\"key\":\"Producer03\"}\n",
      "Message published successfully. Data: {\"latitude\":\"-37.749\",\"longitude\":\"148.297\",\"confidence\":\"50\",\"surface_temperature_celcius\":\"42\",\"datetime\":\"28\\/12\\/2021, 04:17:23\",\"key\":\"Producer03\"}\n",
      "Message published successfully. Data: {\"latitude\":\"-36.8691\",\"longitude\":\"142.7205\",\"confidence\":\"79\",\"surface_temperature_celcius\":\"53\",\"datetime\":\"28\\/12\\/2021, 04:17:25\",\"key\":\"Producer03\"}\n",
      "Message published successfully. Data: {\"latitude\":\"-36.293\",\"longitude\":\"146.148\",\"confidence\":\"100\",\"surface_temperature_celcius\":\"52\",\"datetime\":\"28\\/12\\/2021, 04:17:27\",\"key\":\"Producer03\"}\n",
      "Message published successfully. Data: {\"latitude\":\"-35.1175\",\"longitude\":\"141.1396\",\"confidence\":\"84\",\"surface_temperature_celcius\":\"58\",\"datetime\":\"28\\/12\\/2021, 04:17:29\",\"key\":\"Producer03\"}\n"
     ]
    }
   ],
   "source": [
    "if __name__ == '__main__':\n",
    "   \n",
    "    topic = 'Assignment'\n",
    "    \n",
    "    print('Publishing records..')\n",
    "    producer = connect_kafka_producer()\n",
    "    row_no = terra_streaming.shape[0]\n",
    "    latest_date = latest_date + dt.timedelta(days = 1)\n",
    "    \n",
    "    for e in range(20):\n",
    "        latest_date = str(latest_date.strftime(\"%d/%m/%Y, %H:%M:%S\"))\n",
    "        row = random.randrange(0,(row_no - 1))\n",
    "        terra_streaming.loc[row,\"datetime\"] = latest_date\n",
    "        terra_streaming.loc[row,\"key\"] = 'Producer03'\n",
    "        data = terra_streaming.loc[row,]\n",
    "        data = data.to_json()\n",
    "        publish_message(producer, topic, 'Producer03', data)\n",
    "        latest_date = datetime.strptime(latest_date,\"%d/%m/%Y, %H:%M:%S\") + dt.timedelta(seconds = 2)\n",
    "        sleep(1)"
   ]
  },
  {
   "cell_type": "code",
   "execution_count": null,
   "metadata": {},
   "outputs": [],
   "source": []
  }
 ],
 "metadata": {
  "kernelspec": {
   "display_name": "Python 3",
   "language": "python",
   "name": "python3"
  },
  "language_info": {
   "codemirror_mode": {
    "name": "ipython",
    "version": 3
   },
   "file_extension": ".py",
   "mimetype": "text/x-python",
   "name": "python",
   "nbconvert_exporter": "python",
   "pygments_lexer": "ipython3",
   "version": "3.8.10"
  }
 },
 "nbformat": 4,
 "nbformat_minor": 4
}
