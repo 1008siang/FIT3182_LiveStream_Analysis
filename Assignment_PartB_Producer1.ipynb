{
 "cells": [
  {
   "cell_type": "code",
   "execution_count": 1,
   "metadata": {},
   "outputs": [],
   "source": [
    "# import statements\n",
    "from time import sleep\n",
    "import json\n",
    "from json import dumps\n",
    "from kafka import KafkaProducer\n",
    "import random\n",
    "from datetime import datetime\n",
    "import datetime as dt\n",
    "import csv\n",
    "import pandas as pd\n",
    "import pprint\n"
   ]
  },
  {
   "cell_type": "code",
   "execution_count": 2,
   "metadata": {},
   "outputs": [
    {
     "data": {
      "text/html": [
       "<div>\n",
       "<style scoped>\n",
       "    .dataframe tbody tr th:only-of-type {\n",
       "        vertical-align: middle;\n",
       "    }\n",
       "\n",
       "    .dataframe tbody tr th {\n",
       "        vertical-align: top;\n",
       "    }\n",
       "\n",
       "    .dataframe thead th {\n",
       "        text-align: right;\n",
       "    }\n",
       "</style>\n",
       "<table border=\"1\" class=\"dataframe\">\n",
       "  <thead>\n",
       "    <tr style=\"text-align: right;\">\n",
       "      <th></th>\n",
       "      <th>latitude</th>\n",
       "      <th>longitude</th>\n",
       "      <th>air_temperature_celcius</th>\n",
       "      <th>relative_humidity</th>\n",
       "      <th>windspeed_knots</th>\n",
       "      <th>max_wind_speed</th>\n",
       "      <th>precipitation</th>\n",
       "      <th>GHI_w/m2</th>\n",
       "    </tr>\n",
       "  </thead>\n",
       "  <tbody>\n",
       "    <tr>\n",
       "      <th>0</th>\n",
       "      <td>-37.623</td>\n",
       "      <td>149.323</td>\n",
       "      <td>19</td>\n",
       "      <td>56.8</td>\n",
       "      <td>7.9</td>\n",
       "      <td>11.1</td>\n",
       "      <td>0.00I</td>\n",
       "      <td>154</td>\n",
       "    </tr>\n",
       "    <tr>\n",
       "      <th>1</th>\n",
       "      <td>-38.038</td>\n",
       "      <td>142.986</td>\n",
       "      <td>15</td>\n",
       "      <td>50.7</td>\n",
       "      <td>9.2</td>\n",
       "      <td>13.0</td>\n",
       "      <td>0.02G</td>\n",
       "      <td>128</td>\n",
       "    </tr>\n",
       "    <tr>\n",
       "      <th>2</th>\n",
       "      <td>-37.950</td>\n",
       "      <td>142.366</td>\n",
       "      <td>16</td>\n",
       "      <td>53.6</td>\n",
       "      <td>8.1</td>\n",
       "      <td>15.0</td>\n",
       "      <td>0.00G</td>\n",
       "      <td>133</td>\n",
       "    </tr>\n",
       "    <tr>\n",
       "      <th>3</th>\n",
       "      <td>-38.231</td>\n",
       "      <td>147.172</td>\n",
       "      <td>24</td>\n",
       "      <td>61.6</td>\n",
       "      <td>7.7</td>\n",
       "      <td>14.0</td>\n",
       "      <td>0.00I</td>\n",
       "      <td>186</td>\n",
       "    </tr>\n",
       "    <tr>\n",
       "      <th>4</th>\n",
       "      <td>-37.903</td>\n",
       "      <td>145.250</td>\n",
       "      <td>24</td>\n",
       "      <td>62.3</td>\n",
       "      <td>7.0</td>\n",
       "      <td>13.0</td>\n",
       "      <td>0.00I</td>\n",
       "      <td>185</td>\n",
       "    </tr>\n",
       "  </tbody>\n",
       "</table>\n",
       "</div>"
      ],
      "text/plain": [
       "   latitude  longitude  air_temperature_celcius  relative_humidity  \\\n",
       "0   -37.623    149.323                       19               56.8   \n",
       "1   -38.038    142.986                       15               50.7   \n",
       "2   -37.950    142.366                       16               53.6   \n",
       "3   -38.231    147.172                       24               61.6   \n",
       "4   -37.903    145.250                       24               62.3   \n",
       "\n",
       "   windspeed_knots  max_wind_speed precipitation   GHI_w/m2  \n",
       "0              7.9            11.1          0.00I       154  \n",
       "1              9.2            13.0          0.02G       128  \n",
       "2              8.1            15.0          0.00G       133  \n",
       "3              7.7            14.0          0.00I       186  \n",
       "4              7.0            13.0          0.00I       185  "
      ]
     },
     "execution_count": 2,
     "metadata": {},
     "output_type": "execute_result"
    }
   ],
   "source": [
    "# climate_streaming = []\n",
    "# with open(\"FIT3182_Assignment/climate_streaming.csv\", 'r') as file:\n",
    "#     csvreader = csv.reader(file)\n",
    "#     header_climate_streaming = next(csvreader)\n",
    "#     for row in csvreader:\n",
    "#         climate_streaming.append(row)\n",
    "        \n",
    "# climate_streaming = pd.DataFrame(climate_streaming)\n",
    "# climate_streaming.columns = header_climate_streaming\n",
    "\n",
    "climate_streaming = pd.read_csv(\"FIT3182_Assignment/climate_streaming.csv\")\n",
    "climate_streaming.head()"
   ]
  },
  {
   "cell_type": "code",
   "execution_count": 3,
   "metadata": {},
   "outputs": [
    {
     "data": {
      "text/plain": [
       "datetime.datetime(2021, 12, 27, 4, 16, 51)"
      ]
     },
     "execution_count": 3,
     "metadata": {},
     "output_type": "execute_result"
    }
   ],
   "source": [
    "import pymongo\n",
    "from pymongo import MongoClient\n",
    "\n",
    "client = MongoClient ()\n",
    "db = client.fit3182_assignment_db\n",
    "merged_hist = db.merged_hist\n",
    "\n",
    "date = (list(merged_hist.aggregate([\n",
    "        { '$unwind' : '$Hotspot' },\n",
    "        { '$sort' : { 'Hotspot.datetime' : -1}},\n",
    "        { '$limit' : 1},\n",
    "        { '$project' : {'Hotspot.datetime' : 1 , '_id' : 0}}\n",
    "         ])))\n",
    "\n",
    "temp = date[0]\n",
    "\n",
    "l_date = temp['Hotspot']\n",
    "\n",
    "latest_date = l_date['datetime']\n",
    "latest_date = latest_date.replace(\"T\",\" \")\n",
    "latest_date = latest_date.replace(\"-\",\"/\")\n",
    "latest_date = datetime.strptime(latest_date,\"%Y/%m/%d %H:%M:%S\")\n",
    "latest_date"
   ]
  },
  {
   "cell_type": "code",
   "execution_count": 4,
   "metadata": {},
   "outputs": [],
   "source": [
    "def publish_message(producer_instance, topic_name, key, value):\n",
    "    try:\n",
    "        key_bytes = bytes(key, encoding='utf-8')\n",
    "        #str_value = json.dumps(value)\n",
    "        value_bytes = bytes(value, encoding='utf-8')\n",
    "        producer_instance.send(topic_name, key=key_bytes, value=value_bytes)\n",
    "        producer_instance.flush()\n",
    "        print('Message published successfully. Data: ' + str(data))\n",
    "    except Exception as ex:\n",
    "        print('Exception in publishing message.')\n",
    "        print(str(ex))\n",
    "        "
   ]
  },
  {
   "cell_type": "code",
   "execution_count": 5,
   "metadata": {},
   "outputs": [],
   "source": [
    "def connect_kafka_producer():\n",
    "    _producer = None\n",
    "    try:\n",
    "        _producer = KafkaProducer(bootstrap_servers=['localhost:9092'],\n",
    "                                  api_version=(0, 10))\n",
    "    except Exception as ex:\n",
    "        print('Exception while connecting Kafka.')\n",
    "        print(str(ex))\n",
    "    finally:\n",
    "        return _producer"
   ]
  },
  {
   "cell_type": "code",
   "execution_count": 6,
   "metadata": {},
   "outputs": [
    {
     "name": "stdout",
     "output_type": "stream",
     "text": [
      "Publishing records..\n",
      "Message published successfully. Data: {\"latitude\":-37.954,\"longitude\":143.918,\"air_temperature_celcius\":20,\"relative_humidity\":59.7,\"windspeed_knots\":8.6,\"max_wind_speed\":15.9,\"precipitation \":\" 0.01G\",\"GHI_w\\/m2\":158,\"datetime\":\"28\\/12\\/2021, 04:16:51\",\"key\":\"Producer01\"}\n",
      "Message published successfully. Data: {\"latitude\":-37.6745,\"longitude\":142.9848,\"air_temperature_celcius\":15,\"relative_humidity\":44.5,\"windspeed_knots\":10.2,\"max_wind_speed\":14.0,\"precipitation \":\" 0.00G\",\"GHI_w\\/m2\":134,\"datetime\":\"28\\/12\\/2021, 04:17:01\",\"key\":\"Producer01\"}\n",
      "Message published successfully. Data: {\"latitude\":-38.527,\"longitude\":143.493,\"air_temperature_celcius\":19,\"relative_humidity\":51.5,\"windspeed_knots\":10.2,\"max_wind_speed\":20.0,\"precipitation \":\" 0.00I\",\"GHI_w\\/m2\":161,\"datetime\":\"28\\/12\\/2021, 04:17:11\",\"key\":\"Producer01\"}\n",
      "Message published successfully. Data: {\"latitude\":-35.953,\"longitude\":141.078,\"air_temperature_celcius\":12,\"relative_humidity\":47.2,\"windspeed_knots\":8.8,\"max_wind_speed\":15.0,\"precipitation \":\" 0.00G\",\"GHI_w\\/m2\":105,\"datetime\":\"28\\/12\\/2021, 04:17:21\",\"key\":\"Producer01\"}\n",
      "Message published successfully. Data: {\"latitude\":-37.856,\"longitude\":143.416,\"air_temperature_celcius\":15,\"relative_humidity\":53.7,\"windspeed_knots\":6.8,\"max_wind_speed\":11.1,\"precipitation \":\" 0.51G\",\"GHI_w\\/m2\":125,\"datetime\":\"28\\/12\\/2021, 04:17:31\",\"key\":\"Producer01\"}\n",
      "Message published successfully. Data: {\"latitude\":-37.467,\"longitude\":143.351,\"air_temperature_celcius\":17,\"relative_humidity\":53.4,\"windspeed_knots\":9.4,\"max_wind_speed\":25.1,\"precipitation \":\" 0.16G\",\"GHI_w\\/m2\":142,\"datetime\":\"28\\/12\\/2021, 04:17:41\",\"key\":\"Producer01\"}\n",
      "Message published successfully. Data: {\"latitude\":-37.0046,\"longitude\":141.8047,\"air_temperature_celcius\":10,\"relative_humidity\":41.4,\"windspeed_knots\":6.9,\"max_wind_speed\":8.9,\"precipitation \":\" 0.00G\",\"GHI_w\\/m2\":92,\"datetime\":\"28\\/12\\/2021, 04:17:51\",\"key\":\"Producer01\"}\n",
      "Message published successfully. Data: {\"latitude\":-36.291,\"longitude\":146.159,\"air_temperature_celcius\":24,\"relative_humidity\":55.4,\"windspeed_knots\":5.9,\"max_wind_speed\":9.9,\"precipitation \":\" 0.00I\",\"GHI_w\\/m2\":196,\"datetime\":\"28\\/12\\/2021, 04:18:01\",\"key\":\"Producer01\"}\n",
      "Message published successfully. Data: {\"latitude\":-36.3774,\"longitude\":143.7079,\"air_temperature_celcius\":11,\"relative_humidity\":43.2,\"windspeed_knots\":8.1,\"max_wind_speed\":14.0,\"precipitation \":\" 0.20G\",\"GHI_w\\/m2\":100,\"datetime\":\"28\\/12\\/2021, 04:18:11\",\"key\":\"Producer01\"}\n",
      "Message published successfully. Data: {\"latitude\":-37.448,\"longitude\":148.114,\"air_temperature_celcius\":10,\"relative_humidity\":44.4,\"windspeed_knots\":5.6,\"max_wind_speed\":11.1,\"precipitation \":\" 0.12G\",\"GHI_w\\/m2\":90,\"datetime\":\"28\\/12\\/2021, 04:18:21\",\"key\":\"Producer01\"}\n",
      "Message published successfully. Data: {\"latitude\":-37.466,\"longitude\":148.143,\"air_temperature_celcius\":17,\"relative_humidity\":48.7,\"windspeed_knots\":10.5,\"max_wind_speed\":15.0,\"precipitation \":\" 0.00I\",\"GHI_w\\/m2\":147,\"datetime\":\"28\\/12\\/2021, 04:18:31\",\"key\":\"Producer01\"}\n",
      "Message published successfully. Data: {\"latitude\":-37.475,\"longitude\":143.365,\"air_temperature_celcius\":17,\"relative_humidity\":49.9,\"windspeed_knots\":12.2,\"max_wind_speed\":21.0,\"precipitation \":\" 0.24G\",\"GHI_w\\/m2\":146,\"datetime\":\"28\\/12\\/2021, 04:18:41\",\"key\":\"Producer01\"}\n",
      "Message published successfully. Data: {\"latitude\":-37.456,\"longitude\":148.11,\"air_temperature_celcius\":10,\"relative_humidity\":47.9,\"windspeed_knots\":4.1,\"max_wind_speed\":7.0,\"precipitation \":\" 0.00I\",\"GHI_w\\/m2\":87,\"datetime\":\"28\\/12\\/2021, 04:18:51\",\"key\":\"Producer01\"}\n",
      "Message published successfully. Data: {\"latitude\":-36.5871,\"longitude\":144.961,\"air_temperature_celcius\":13,\"relative_humidity\":43.6,\"windspeed_knots\":9.0,\"max_wind_speed\":15.0,\"precipitation \":\" 0.00I\",\"GHI_w\\/m2\":117,\"datetime\":\"28\\/12\\/2021, 04:19:01\",\"key\":\"Producer01\"}\n",
      "Message published successfully. Data: {\"latitude\":-37.456,\"longitude\":148.11,\"air_temperature_celcius\":10,\"relative_humidity\":47.9,\"windspeed_knots\":4.1,\"max_wind_speed\":7.0,\"precipitation \":\" 0.00I\",\"GHI_w\\/m2\":87,\"datetime\":\"28\\/12\\/2021, 04:19:11\",\"key\":\"Producer01\"}\n",
      "Message published successfully. Data: {\"latitude\":-37.386,\"longitude\":148.043,\"air_temperature_celcius\":8,\"relative_humidity\":43.3,\"windspeed_knots\":3.9,\"max_wind_speed\":8.0,\"precipitation \":\" 0.00I\",\"GHI_w\\/m2\":72,\"datetime\":\"28\\/12\\/2021, 04:19:21\",\"key\":\"Producer01\"}\n",
      "Message published successfully. Data: {\"latitude\":-37.34,\"longitude\":143.123,\"air_temperature_celcius\":19,\"relative_humidity\":52.8,\"windspeed_knots\":12.5,\"max_wind_speed\":21.0,\"precipitation \":\" 0.47G\",\"GHI_w\\/m2\":159,\"datetime\":\"28\\/12\\/2021, 04:19:31\",\"key\":\"Producer01\"}\n",
      "Message published successfully. Data: {\"latitude\":-37.945,\"longitude\":144.354,\"air_temperature_celcius\":24,\"relative_humidity\":55.6,\"windspeed_knots\":5.9,\"max_wind_speed\":13.0,\"precipitation \":\" 0.00I\",\"GHI_w\\/m2\":196,\"datetime\":\"28\\/12\\/2021, 04:19:41\",\"key\":\"Producer01\"}\n",
      "Message published successfully. Data: {\"latitude\":-36.429,\"longitude\":141.5759,\"air_temperature_celcius\":7,\"relative_humidity\":37.9,\"windspeed_knots\":5.7,\"max_wind_speed\":9.9,\"precipitation \":\" 0.04G\",\"GHI_w\\/m2\":66,\"datetime\":\"28\\/12\\/2021, 04:19:51\",\"key\":\"Producer01\"}\n",
      "Message published successfully. Data: {\"latitude\":-36.6833,\"longitude\":141.6347,\"air_temperature_celcius\":15,\"relative_humidity\":56.2,\"windspeed_knots\":16.9,\"max_wind_speed\":20.0,\"precipitation \":\" 1.77G\",\"GHI_w\\/m2\":122,\"datetime\":\"28\\/12\\/2021, 04:20:01\",\"key\":\"Producer01\"}\n"
     ]
    }
   ],
   "source": [
    "if __name__ == '__main__':\n",
    "   \n",
    "    topic = 'Assignment'\n",
    "    \n",
    "    print('Publishing records..')\n",
    "    producer = connect_kafka_producer()\n",
    "    row_no = climate_streaming.shape[0]\n",
    "    latest_date = latest_date + dt.timedelta(days = 1)\n",
    "    \n",
    "    \n",
    "    for e in range(20):\n",
    "        \n",
    "        latest_date = str(latest_date.strftime(\"%d/%m/%Y, %H:%M:%S\"))\n",
    "        row = random.randrange(0,(row_no - 1))\n",
    "        climate_streaming.loc[row,\"datetime\"] = latest_date\n",
    "        climate_streaming.loc[row,\"key\"] = 'Producer01'\n",
    "        data = climate_streaming.loc[row,]\n",
    "        data = data.to_json()\n",
    "        publish_message(producer, topic, 'Producer01', data)\n",
    "        latest_date = datetime.strptime(latest_date,\"%d/%m/%Y, %H:%M:%S\") + dt.timedelta(seconds = 10)\n",
    "        sleep(1)"
   ]
  },
  {
   "cell_type": "code",
   "execution_count": null,
   "metadata": {},
   "outputs": [],
   "source": []
  },
  {
   "cell_type": "code",
   "execution_count": null,
   "metadata": {},
   "outputs": [],
   "source": []
  },
  {
   "cell_type": "code",
   "execution_count": null,
   "metadata": {},
   "outputs": [],
   "source": []
  }
 ],
 "metadata": {
  "kernelspec": {
   "display_name": "Python 3",
   "language": "python",
   "name": "python3"
  },
  "language_info": {
   "codemirror_mode": {
    "name": "ipython",
    "version": 3
   },
   "file_extension": ".py",
   "mimetype": "text/x-python",
   "name": "python",
   "nbconvert_exporter": "python",
   "pygments_lexer": "ipython3",
   "version": "3.8.10"
  }
 },
 "nbformat": 4,
 "nbformat_minor": 4
}
