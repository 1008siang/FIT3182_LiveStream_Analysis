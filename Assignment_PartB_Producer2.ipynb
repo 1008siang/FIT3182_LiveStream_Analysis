{
 "cells": [
  {
   "cell_type": "code",
   "execution_count": 1,
   "metadata": {},
   "outputs": [],
   "source": [
    "# import statements\n",
    "from time import sleep\n",
    "import json\n",
    "from json import dumps\n",
    "from kafka import KafkaProducer\n",
    "import random\n",
    "from datetime import datetime\n",
    "import datetime as dt\n",
    "import csv\n",
    "import pandas as pd"
   ]
  },
  {
   "cell_type": "code",
   "execution_count": 2,
   "metadata": {},
   "outputs": [],
   "source": [
    "aqua_streaming = []\n",
    "with open(\"FIT3182_Assignment/hotspot_AQUA_streaming.csv\", 'r') as file:\n",
    "    csvreader = csv.reader(file)\n",
    "    header_aqua_streaming = next(csvreader)\n",
    "    for row in csvreader:\n",
    "        aqua_streaming.append(row)\n",
    "        \n",
    "aqua_streaming = pd.DataFrame(aqua_streaming)\n",
    "aqua_streaming.columns = header_aqua_streaming"
   ]
  },
  {
   "cell_type": "code",
   "execution_count": 3,
   "metadata": {},
   "outputs": [
    {
     "data": {
      "text/plain": [
       "datetime.datetime(2021, 12, 27, 4, 16, 51)"
      ]
     },
     "execution_count": 3,
     "metadata": {},
     "output_type": "execute_result"
    }
   ],
   "source": [
    "import pymongo\n",
    "from pymongo import MongoClient\n",
    "\n",
    "client = MongoClient ()\n",
    "db = client.fit3182_assignment_db\n",
    "merged_hist = db.merged_hist\n",
    "\n",
    "date = (list(merged_hist.aggregate([\n",
    "        { '$unwind' : '$Hotspot' },\n",
    "        { '$sort' : { 'Hotspot.datetime' : -1}},\n",
    "        { '$limit' : 1},\n",
    "        { '$project' : {'Hotspot.datetime' : 1 , '_id' : 0}}\n",
    "         ])))\n",
    "\n",
    "temp = date[0]\n",
    "\n",
    "l_date = temp['Hotspot']\n",
    "\n",
    "latest_date = l_date['datetime']\n",
    "latest_date = latest_date.replace(\"T\",\" \")\n",
    "latest_date = latest_date.replace(\"-\",\"/\")\n",
    "latest_date = datetime.strptime(latest_date,\"%Y/%m/%d %H:%M:%S\")\n",
    "latest_date"
   ]
  },
  {
   "cell_type": "code",
   "execution_count": 4,
   "metadata": {},
   "outputs": [],
   "source": [
    "def publish_message(producer_instance, topic_name, key, value):\n",
    "    try:\n",
    "        key_bytes = bytes(key, encoding='utf-8')\n",
    "        value_bytes = bytes(value, encoding='utf-8')\n",
    "        producer_instance.send(topic_name, key=key_bytes, value=value_bytes)\n",
    "        producer_instance.flush()\n",
    "        print('Message published successfully. Data: ' + str(data))\n",
    "    except Exception as ex:\n",
    "        print('Exception in publishing message.')\n",
    "        print(str(ex))"
   ]
  },
  {
   "cell_type": "code",
   "execution_count": 5,
   "metadata": {},
   "outputs": [],
   "source": [
    "def connect_kafka_producer():\n",
    "    _producer = None\n",
    "    try:\n",
    "        _producer = KafkaProducer(bootstrap_servers=['localhost:9092'],\n",
    "                                  api_version=(0, 10))\n",
    "    except Exception as ex:\n",
    "        print('Exception while connecting Kafka.')\n",
    "        print(str(ex))\n",
    "    finally:\n",
    "        return _producer"
   ]
  },
  {
   "cell_type": "code",
   "execution_count": 6,
   "metadata": {},
   "outputs": [
    {
     "name": "stdout",
     "output_type": "stream",
     "text": [
      "Publishing records..\n",
      "Message published successfully. Data: {\"latitude\":\"-37.5318\",\"longitude\":\"143.4615\",\"confidence\":\"80\",\"surface_temperature_celcius\":\"54\",\"datetime\":\"28\\/12\\/2021, 04:16:51\",\"key\":\"Producer02\"}\n",
      "Message published successfully. Data: {\"latitude\":\"-37.1104\",\"longitude\":\"141.828\",\"confidence\":\"77\",\"surface_temperature_celcius\":\"50\",\"datetime\":\"28\\/12\\/2021, 04:16:53\",\"key\":\"Producer02\"}\n",
      "Message published successfully. Data: {\"latitude\":\"-37.446\",\"longitude\":\"142.8978\",\"confidence\":\"72\",\"surface_temperature_celcius\":\"47\",\"datetime\":\"28\\/12\\/2021, 04:16:55\",\"key\":\"Producer02\"}\n",
      "Message published successfully. Data: {\"latitude\":\"-37.9091\",\"longitude\":\"143.5105\",\"confidence\":\"87\",\"surface_temperature_celcius\":\"70\",\"datetime\":\"28\\/12\\/2021, 04:16:57\",\"key\":\"Producer02\"}\n",
      "Message published successfully. Data: {\"latitude\":\"-38.0171\",\"longitude\":\"143.7532\",\"confidence\":\"77\",\"surface_temperature_celcius\":\"51\",\"datetime\":\"28\\/12\\/2021, 04:16:59\",\"key\":\"Producer02\"}\n",
      "Message published successfully. Data: {\"latitude\":\"-37.585\",\"longitude\":\"149.336\",\"confidence\":\"100\",\"surface_temperature_celcius\":\"54\",\"datetime\":\"28\\/12\\/2021, 04:17:01\",\"key\":\"Producer02\"}\n",
      "Message published successfully. Data: {\"latitude\":\"-36.9189\",\"longitude\":\"147.5603\",\"confidence\":\"63\",\"surface_temperature_celcius\":\"52\",\"datetime\":\"28\\/12\\/2021, 04:17:03\",\"key\":\"Producer02\"}\n",
      "Message published successfully. Data: {\"latitude\":\"-36.6798\",\"longitude\":\"141.1299\",\"confidence\":\"76\",\"surface_temperature_celcius\":\"50\",\"datetime\":\"28\\/12\\/2021, 04:17:05\",\"key\":\"Producer02\"}\n",
      "Message published successfully. Data: {\"latitude\":\"-37.335\",\"longitude\":\"148.064\",\"confidence\":\"88\",\"surface_temperature_celcius\":\"60\",\"datetime\":\"28\\/12\\/2021, 04:17:07\",\"key\":\"Producer02\"}\n",
      "Message published successfully. Data: {\"latitude\":\"-36.4399\",\"longitude\":\"141.0914\",\"confidence\":\"59\",\"surface_temperature_celcius\":\"40\",\"datetime\":\"28\\/12\\/2021, 04:17:09\",\"key\":\"Producer02\"}\n",
      "Message published successfully. Data: {\"latitude\":\"-37.7751\",\"longitude\":\"143.0494\",\"confidence\":\"86\",\"surface_temperature_celcius\":\"61\",\"datetime\":\"28\\/12\\/2021, 04:17:11\",\"key\":\"Producer02\"}\n",
      "Message published successfully. Data: {\"latitude\":\"-35.8055\",\"longitude\":\"142.7428\",\"confidence\":\"73\",\"surface_temperature_celcius\":\"47\",\"datetime\":\"28\\/12\\/2021, 04:17:13\",\"key\":\"Producer02\"}\n",
      "Message published successfully. Data: {\"latitude\":\"-36.9938\",\"longitude\":\"142.1611\",\"confidence\":\"77\",\"surface_temperature_celcius\":\"52\",\"datetime\":\"28\\/12\\/2021, 04:17:15\",\"key\":\"Producer02\"}\n",
      "Message published successfully. Data: {\"latitude\":\"-36.0924\",\"longitude\":\"145.5751\",\"confidence\":\"67\",\"surface_temperature_celcius\":\"47\",\"datetime\":\"28\\/12\\/2021, 04:17:17\",\"key\":\"Producer02\"}\n",
      "Message published successfully. Data: {\"latitude\":\"-37.0761\",\"longitude\":\"141.0574\",\"confidence\":\"100\",\"surface_temperature_celcius\":\"89\",\"datetime\":\"28\\/12\\/2021, 04:17:19\",\"key\":\"Producer02\"}\n",
      "Message published successfully. Data: {\"latitude\":\"-36.5661\",\"longitude\":\"142.2956\",\"confidence\":\"89\",\"surface_temperature_celcius\":\"65\",\"datetime\":\"28\\/12\\/2021, 04:17:21\",\"key\":\"Producer02\"}\n",
      "Message published successfully. Data: {\"latitude\":\"-37.8011\",\"longitude\":\"144.7343\",\"confidence\":\"67\",\"surface_temperature_celcius\":\"44\",\"datetime\":\"28\\/12\\/2021, 04:17:23\",\"key\":\"Producer02\"}\n",
      "Message published successfully. Data: {\"latitude\":\"-36.0387\",\"longitude\":\"145.6787\",\"confidence\":\"90\",\"surface_temperature_celcius\":\"67\",\"datetime\":\"28\\/12\\/2021, 04:17:25\",\"key\":\"Producer02\"}\n",
      "Message published successfully. Data: {\"latitude\":\"-36.3489\",\"longitude\":\"141.4916\",\"confidence\":\"55\",\"surface_temperature_celcius\":\"39\",\"datetime\":\"28\\/12\\/2021, 04:17:27\",\"key\":\"Producer02\"}\n",
      "Message published successfully. Data: {\"latitude\":\"-37.639\",\"longitude\":\"142.0648\",\"confidence\":\"79\",\"surface_temperature_celcius\":\"52\",\"datetime\":\"28\\/12\\/2021, 04:17:29\",\"key\":\"Producer02\"}\n"
     ]
    }
   ],
   "source": [
    "if __name__ == '__main__':\n",
    "   \n",
    "    topic = 'Assignment'\n",
    "    \n",
    "    print('Publishing records..')\n",
    "    producer = connect_kafka_producer()\n",
    "    row_no = aqua_streaming.shape[0]\n",
    "    latest_date = latest_date + dt.timedelta(days = 1)\n",
    "    \n",
    "    for e in range(20):\n",
    "        \n",
    "        latest_date = str(latest_date.strftime(\"%d/%m/%Y, %H:%M:%S\"))\n",
    "        row = random.randrange(0,(row_no - 1))\n",
    "        aqua_streaming.loc[row,\"datetime\"] = latest_date\n",
    "        aqua_streaming.loc[row,\"key\"] = 'Producer02'\n",
    "        data = aqua_streaming.loc[row,]\n",
    "        data = data.to_json()\n",
    "        publish_message(producer, topic, 'Producer02', data)\n",
    "        latest_date = datetime.strptime(latest_date,\"%d/%m/%Y, %H:%M:%S\") + dt.timedelta(seconds = 2)\n",
    "        sleep(1)"
   ]
  },
  {
   "cell_type": "code",
   "execution_count": null,
   "metadata": {},
   "outputs": [],
   "source": []
  }
 ],
 "metadata": {
  "kernelspec": {
   "display_name": "Python 3",
   "language": "python",
   "name": "python3"
  },
  "language_info": {
   "codemirror_mode": {
    "name": "ipython",
    "version": 3
   },
   "file_extension": ".py",
   "mimetype": "text/x-python",
   "name": "python",
   "nbconvert_exporter": "python",
   "pygments_lexer": "ipython3",
   "version": "3.8.10"
  }
 },
 "nbformat": 4,
 "nbformat_minor": 4
}
